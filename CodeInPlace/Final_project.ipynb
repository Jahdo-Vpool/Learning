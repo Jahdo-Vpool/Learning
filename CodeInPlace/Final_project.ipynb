{
 "cells": [
  {
   "metadata": {},
   "cell_type": "markdown",
   "source": "",
   "id": "2df6ef31af65fa75"
  },
  {
   "metadata": {},
   "cell_type": "code",
   "outputs": [],
   "execution_count": null,
   "source": [
    "# Import necessary libraries\n",
    "\n",
    "import requests\n",
    "import json\n",
    "import time\n",
    "import os"
   ],
   "id": "5d63faa07544c962"
  },
  {
   "metadata": {},
   "cell_type": "code",
   "outputs": [],
   "execution_count": null,
   "source": [
    "# Configuration\n",
    "\n",
    "\n",
    "GAME_LENGTH_MONTHS = 12\n",
    "\n",
    "# Incase API fails these options will be used\n",
    "FALLBACK_CARRER_OPTIONS = {\n",
    "    '1': {'name': 'Software Engineer', 'income': 7000, 'expenses': 3000},\n",
    "    '2': {'name': 'Teacher', 'income': 4000, 'expenses': 2200},\n",
    "    '3': {'name': 'Graphic Designer', 'income': 5000, 'expenses': 2500},\n",
    "    '4': {'name': 'Nurse', 'income': 5500, 'expenses': 2800},\n",
    "    '5': {'name': 'Marketing Manager', 'income': 6000, 'expenses': 3100},\n",
    "}"
   ],
   "id": "b54eb98f010cbd8d"
  },
  {
   "metadata": {},
   "cell_type": "code",
   "outputs": [],
   "execution_count": null,
   "source": [
    "# Helper functions\n",
    "\n",
    "def clear_screen():\n",
    "    \"\"\"Clears the screen.\"\"\"\n",
    "    try: # If working in juypter notebook\n",
    "        from IPython.display import clear_output\n",
    "        clear_output(wait=True)\n",
    "    except ImportError:\n",
    "        os.system('cls' if os.name == 'nt' else 'clear')\n",
    "\n",
    "\n",
    "def print_separator():\n",
    "    \"\"\"Prints a separator to the console.\"\"\"\n",
    "    print(\"\\n\" + \"-\" * 50 + \"\\n\")\n",
    "\n",
    "def typewriter_effect(text, delay=0.03):\n",
    "    \"\"\"Prints a text with a type writer effect.\"\"\"\n",
    "    for char in text:\n",
    "        print(char, end=\"\",)\n"
   ],
   "id": "c67fb1ccb6c252a"
  },
  {
   "metadata": {},
   "cell_type": "code",
   "outputs": [],
   "execution_count": null,
   "source": "print_separator()",
   "id": "a8b13955ff36246e"
  },
  {
   "metadata": {},
   "cell_type": "code",
   "outputs": [],
   "execution_count": null,
   "source": "",
   "id": "6e93d3380f771c83"
  }
 ],
 "metadata": {
  "kernelspec": {
   "display_name": "Python 3",
   "language": "python",
   "name": "python3"
  },
  "language_info": {
   "codemirror_mode": {
    "name": "ipython",
    "version": 2
   },
   "file_extension": ".py",
   "mimetype": "text/x-python",
   "name": "python",
   "nbconvert_exporter": "python",
   "pygments_lexer": "ipython2",
   "version": "2.7.6"
  }
 },
 "nbformat": 4,
 "nbformat_minor": 5
}
