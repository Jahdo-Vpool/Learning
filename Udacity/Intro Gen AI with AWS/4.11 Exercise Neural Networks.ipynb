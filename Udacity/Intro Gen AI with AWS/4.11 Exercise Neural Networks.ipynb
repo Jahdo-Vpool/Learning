{
 "cells": [
  {
   "metadata": {},
   "cell_type": "markdown",
   "source": [
    "### The task\n",
    "\n",
    "For this exercise, you will create a simple neural network example. We'll use a synthetic dataset to predict whether a customer will make a purchase based on two features:\n",
    "\n",
    "Website visit duration\n",
    "Number of pages visited.\n",
    "This is a binary classification problem, and we'll use a small neural network for quick execution. Copy and paste the code into the Jupyter Notebook below. Place each step of code into it's own cell, then execute each cell in order.\n"
   ],
   "id": "40e16e8bc4b6f8d6"
  },
  {
   "metadata": {},
   "cell_type": "markdown",
   "source": "#### Step 1: Generate Synthetic Data",
   "id": "f064c740a7e044f8"
  },
  {
   "metadata": {},
   "cell_type": "code",
   "outputs": [],
   "execution_count": 1,
   "source": [
    "import warnings\n",
    "warnings.filterwarnings('ignore')\n",
    "\n",
    "import pandas as pd\n",
    "import numpy as np"
   ],
   "id": "b28bc166742be1c0"
  },
  {
   "metadata": {},
   "cell_type": "code",
   "outputs": [],
   "execution_count": 2,
   "source": [
    "# Generating synthetic data\n",
    "np.random.seed(42)\n",
    "data_size = 200\n",
    "features = np.random.rand(data_size,2)\n",
    "labels = (features[:,0] + features[:,1]).astype(int)\n",
    "\n",
    "df = pd.DataFrame(features, columns=['VisitDuration','PagesVisited'])\n",
    "df['Purchase'] = labels"
   ],
   "id": "8f89bf5144aac1eb"
  },
  {
   "metadata": {},
   "cell_type": "markdown",
   "source": "#### Step 2: Preprocess the Data",
   "id": "acf65651d135d55f"
  },
  {
   "metadata": {},
   "cell_type": "code",
   "outputs": [],
   "execution_count": 7,
   "source": [
    "from sklearn.model_selection import train_test_split\n",
    "\n",
    "# Split the data\n",
    "X = df[['VisitDuration','PagesVisited']]\n",
    "y = df['Purchase']\n",
    "\n",
    "X_train, X_test, y_train, y_test = train_test_split(X,y, test_size=0.2, random_state=42)\n"
   ],
   "id": "110c4c7d4dd33f14"
  },
  {
   "metadata": {},
   "cell_type": "markdown",
   "source": "#### Step 3: Build and Train the Neural Network",
   "id": "e7bfaed461871ea1"
  },
  {
   "metadata": {
    "ExecuteTime": {
     "end_time": "2025-06-22T10:16:29.664872Z",
     "start_time": "2025-06-22T10:16:19.717886Z"
    }
   },
   "cell_type": "code",
   "source": [
    "import tensorflow as tf\n",
    "from tensorflow.keras.models import Sequential\n",
    "from tensorflow.keras.layers import Dense"
   ],
   "id": "e4d01d1950056216",
   "outputs": [],
   "execution_count": 8
  },
  {
   "metadata": {
    "ExecuteTime": {
     "end_time": "2025-06-22T10:18:32.159893Z",
     "start_time": "2025-06-22T10:18:31.608293Z"
    }
   },
   "cell_type": "code",
   "source": [
    "# Define the model\n",
    "model = Sequential([\n",
    "    Dense(10, activation='relu', input_shape=(2,)),\n",
    "    Dense(1, activation='sigmoid')\n",
    "\n",
    "])\n",
    "\n",
    "# Compile the model\n",
    "model.compile(optimizer='adam', loss='binary_crossentropy', metrics=['accuracy'])\n",
    "\n",
    "# Train the model\n",
    "model.fit(X_train, y_train, epochs=10, batch_size=10)\n",
    "\n",
    "\n"
   ],
   "id": "117fa4d898ae0c4a",
   "outputs": [
    {
     "name": "stdout",
     "output_type": "stream",
     "text": [
      "Epoch 1/10\n",
      "\u001B[1m16/16\u001B[0m \u001B[32m━━━━━━━━━━━━━━━━━━━━\u001B[0m\u001B[37m\u001B[0m \u001B[1m0s\u001B[0m 1ms/step - accuracy: 0.6071 - loss: 0.6691  \n",
      "Epoch 2/10\n",
      "\u001B[1m16/16\u001B[0m \u001B[32m━━━━━━━━━━━━━━━━━━━━\u001B[0m\u001B[37m\u001B[0m \u001B[1m0s\u001B[0m 960us/step - accuracy: 0.5575 - loss: 0.6772\n",
      "Epoch 3/10\n",
      "\u001B[1m16/16\u001B[0m \u001B[32m━━━━━━━━━━━━━━━━━━━━\u001B[0m\u001B[37m\u001B[0m \u001B[1m0s\u001B[0m 941us/step - accuracy: 0.6421 - loss: 0.6578\n",
      "Epoch 4/10\n",
      "\u001B[1m16/16\u001B[0m \u001B[32m━━━━━━━━━━━━━━━━━━━━\u001B[0m\u001B[37m\u001B[0m \u001B[1m0s\u001B[0m 914us/step - accuracy: 0.6113 - loss: 0.6706\n",
      "Epoch 5/10\n",
      "\u001B[1m16/16\u001B[0m \u001B[32m━━━━━━━━━━━━━━━━━━━━\u001B[0m\u001B[37m\u001B[0m \u001B[1m0s\u001B[0m 853us/step - accuracy: 0.6422 - loss: 0.6548\n",
      "Epoch 6/10\n",
      "\u001B[1m16/16\u001B[0m \u001B[32m━━━━━━━━━━━━━━━━━━━━\u001B[0m\u001B[37m\u001B[0m \u001B[1m0s\u001B[0m 922us/step - accuracy: 0.6629 - loss: 0.6534\n",
      "Epoch 7/10\n",
      "\u001B[1m16/16\u001B[0m \u001B[32m━━━━━━━━━━━━━━━━━━━━\u001B[0m\u001B[37m\u001B[0m \u001B[1m0s\u001B[0m 833us/step - accuracy: 0.6162 - loss: 0.6536\n",
      "Epoch 8/10\n",
      "\u001B[1m16/16\u001B[0m \u001B[32m━━━━━━━━━━━━━━━━━━━━\u001B[0m\u001B[37m\u001B[0m \u001B[1m0s\u001B[0m 843us/step - accuracy: 0.6103 - loss: 0.6418\n",
      "Epoch 9/10\n",
      "\u001B[1m16/16\u001B[0m \u001B[32m━━━━━━━━━━━━━━━━━━━━\u001B[0m\u001B[37m\u001B[0m \u001B[1m0s\u001B[0m 877us/step - accuracy: 0.6966 - loss: 0.6271\n",
      "Epoch 10/10\n",
      "\u001B[1m16/16\u001B[0m \u001B[32m━━━━━━━━━━━━━━━━━━━━\u001B[0m\u001B[37m\u001B[0m \u001B[1m0s\u001B[0m 821us/step - accuracy: 0.6389 - loss: 0.6375\n"
     ]
    },
    {
     "data": {
      "text/plain": [
       "<keras.src.callbacks.history.History at 0x15be44b30>"
      ]
     },
     "execution_count": 10,
     "metadata": {},
     "output_type": "execute_result"
    }
   ],
   "execution_count": 10
  },
  {
   "metadata": {
    "ExecuteTime": {
     "end_time": "2025-06-22T10:18:50.952992Z",
     "start_time": "2025-06-22T10:18:50.870625Z"
    }
   },
   "cell_type": "code",
   "source": [
    "# Evaluate the model on the test set\n",
    "loss, accuracy = model.evaluate(X_test, y_test)\n",
    "print(f\"Test Accuracy: {accuracy}\")"
   ],
   "id": "8553733f27927c15",
   "outputs": [
    {
     "name": "stdout",
     "output_type": "stream",
     "text": [
      "\u001B[1m2/2\u001B[0m \u001B[32m━━━━━━━━━━━━━━━━━━━━\u001B[0m\u001B[37m\u001B[0m \u001B[1m0s\u001B[0m 7ms/step - accuracy: 0.5437 - loss: 0.6320 \n",
      "Test Accuracy: 0.550000011920929\n"
     ]
    }
   ],
   "execution_count": 11
  },
  {
   "metadata": {},
   "cell_type": "code",
   "outputs": [],
   "execution_count": null,
   "source": "",
   "id": "c479dd3d9313d1f1"
  }
 ],
 "metadata": {
  "kernelspec": {
   "display_name": "Python 3",
   "language": "python",
   "name": "python3"
  },
  "language_info": {
   "codemirror_mode": {
    "name": "ipython",
    "version": 2
   },
   "file_extension": ".py",
   "mimetype": "text/x-python",
   "name": "python",
   "nbconvert_exporter": "python",
   "pygments_lexer": "ipython2",
   "version": "2.7.6"
  }
 },
 "nbformat": 4,
 "nbformat_minor": 5
}
