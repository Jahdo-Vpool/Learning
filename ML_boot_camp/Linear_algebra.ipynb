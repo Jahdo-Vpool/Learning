{
 "cells": [
  {
   "metadata": {},
   "cell_type": "markdown",
   "source": [
    "### Vectors\n",
    "\n",
    "- A Vector is an ordered list (array) of numbers that can represent:\n",
    "    - A single data point such as height or weight\n",
    "    - A direction in space\n",
    "    - A collection of features"
   ],
   "id": "a07bfbf880093dd2"
  },
  {
   "metadata": {
    "ExecuteTime": {
     "end_time": "2025-07-28T09:09:47.231744Z",
     "start_time": "2025-07-28T09:09:47.077796Z"
    }
   },
   "cell_type": "code",
   "source": [
    "import numpy as np\n",
    "\n",
    "# Some features\n",
    "height = 170\n",
    "weight =  65\n",
    "age = 30\n",
    "\n",
    "# Create a 3D vector using numpy\n",
    "johns_data = np.array([170, 65, 30]) # This is a 3D vector\n"
   ],
   "id": "327cebeef186e8d2",
   "outputs": [],
   "execution_count": 3
  },
  {
   "metadata": {},
   "cell_type": "markdown",
   "source": [
    "### Matrix\n",
    "\n",
    "- A Matrix is a collection of vectors arranged as rows or columns"
   ],
   "id": "e39ed45a34d3b7d2"
  },
  {
   "metadata": {
    "ExecuteTime": {
     "end_time": "2025-07-28T09:10:21.124167Z",
     "start_time": "2025-07-28T09:10:21.121264Z"
    }
   },
   "cell_type": "code",
   "source": [
    "# Create a 3D matrix\n",
    "friends_data = np.array([\n",
    "    [170, 65, 30],\n",
    "    [165, 90, 28],\n",
    "    [173, 110, 31]\n",
    "])\n",
    "\n",
    "# Each row represents the friend and each column represents the feature"
   ],
   "id": "6842f2e856260fa7",
   "outputs": [],
   "execution_count": 5
  },
  {
   "metadata": {},
   "cell_type": "code",
   "outputs": [],
   "execution_count": null,
   "source": "",
   "id": "8dde0a6be0b1d0e8"
  }
 ],
 "metadata": {
  "kernelspec": {
   "display_name": "Python 3",
   "language": "python",
   "name": "python3"
  },
  "language_info": {
   "codemirror_mode": {
    "name": "ipython",
    "version": 2
   },
   "file_extension": ".py",
   "mimetype": "text/x-python",
   "name": "python",
   "nbconvert_exporter": "python",
   "pygments_lexer": "ipython2",
   "version": "2.7.6"
  }
 },
 "nbformat": 4,
 "nbformat_minor": 5
}
